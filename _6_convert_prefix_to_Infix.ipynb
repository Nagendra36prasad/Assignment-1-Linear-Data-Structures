{
 "cells": [
  {
   "cell_type": "code",
   "execution_count": 1,
   "id": "19c8062d",
   "metadata": {},
   "outputs": [
    {
     "name": "stdout",
     "output_type": "stream",
     "text": [
      "((A+B)*(C-D))\n"
     ]
    }
   ],
   "source": [
    "# Q6. Write a program to convert prefix expression to infix expression.\n",
    "\n",
    "# Python Program to convert prefix to Infix\n",
    "def prefix_to_infix(expression):\n",
    "    operators = set(['+', '-', '*', '/', '^'])\n",
    "    stack = []\n",
    "    for char in expression[::-1]:\n",
    "        if char in operators:\n",
    "            op1 = stack.pop()\n",
    "            op2 = stack.pop()\n",
    "            stack.append(f\"({op1}{char}{op2})\")\n",
    "        else:\n",
    "            stack.append(char)\n",
    "    return stack.pop()\n",
    "expression = '*+AB-CD'\n",
    "infix_expression = prefix_to_infix(expression)\n",
    "print(infix_expression)\n"
   ]
  },
  {
   "cell_type": "code",
   "execution_count": null,
   "id": "da38dd72",
   "metadata": {},
   "outputs": [],
   "source": []
  }
 ],
 "metadata": {
  "kernelspec": {
   "display_name": "Python 3 (ipykernel)",
   "language": "python",
   "name": "python3"
  },
  "language_info": {
   "codemirror_mode": {
    "name": "ipython",
    "version": 3
   },
   "file_extension": ".py",
   "mimetype": "text/x-python",
   "name": "python",
   "nbconvert_exporter": "python",
   "pygments_lexer": "ipython3",
   "version": "3.8.0"
  }
 },
 "nbformat": 4,
 "nbformat_minor": 5
}
