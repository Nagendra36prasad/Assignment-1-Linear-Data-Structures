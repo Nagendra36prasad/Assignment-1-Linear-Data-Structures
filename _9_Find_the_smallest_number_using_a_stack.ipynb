{
 "cells": [
  {
   "cell_type": "code",
   "execution_count": 1,
   "id": "ce4269f3",
   "metadata": {},
   "outputs": [
    {
     "name": "stdout",
     "output_type": "stream",
     "text": [
      "Stack: [3, 1, 4, 2]\n",
      "Minimum element: 1\n"
     ]
    }
   ],
   "source": [
    "# Write a program to find the smallest number using a stack.\n",
    "class Stack:\n",
    "    def __init__(self):\n",
    "        self.data = []\n",
    "        self.size = 0\n",
    "        self.min_stack = []  # auxiliary stack to track minimum element\n",
    "\n",
    "    def push(self, element):\n",
    "        self.data.append(element)    \n",
    "        self.size += 1\n",
    "        if self.min_stack and element >= self.min_stack[-1]:\n",
    "            # do nothing, current minimum is already at the top of min_stack\n",
    "            pass\n",
    "        else:\n",
    "            self.min_stack.append(element)  # push new minimum onto min_stack\n",
    "\n",
    "    def isempty(self):\n",
    "        return self.size == 0\n",
    "\n",
    "    def stack_size(self):\n",
    "        return self.size\n",
    "\n",
    "    def peek(self):\n",
    "        if self.isempty():\n",
    "            return \"Stack is empty\"\n",
    "        else:\n",
    "            return self.data[-1]\n",
    "\n",
    "    def pop(self):\n",
    "        if self.isempty():\n",
    "            return \"Stack is empty\"\n",
    "        else:\n",
    "            self.size -= 1\n",
    "            if self.data[-1] == self.min_stack[-1]:\n",
    "                self.min_stack.pop()  # remove top element from min_stack if it's the minimum\n",
    "            return self.data.pop()    \n",
    "\n",
    "    def view(self):\n",
    "        return self.data\n",
    "\n",
    "    def get_min(self):\n",
    "        if not self.min_stack:\n",
    "            return \"Stack is empty\"\n",
    "        else:\n",
    "            return self.min_stack[-1]\n",
    "        \n",
    "        \n",
    "my_stack = Stack()\n",
    "my_stack.push(3)\n",
    "my_stack.push(1)\n",
    "my_stack.push(4)\n",
    "my_stack.push(2)\n",
    "print(\"Stack:\", my_stack.view())\n",
    "print(\"Minimum element:\", my_stack.get_min())\n",
    "        \n"
   ]
  },
  {
   "cell_type": "code",
   "execution_count": null,
   "id": "87c442fb",
   "metadata": {},
   "outputs": [],
   "source": []
  }
 ],
 "metadata": {
  "kernelspec": {
   "display_name": "Python 3 (ipykernel)",
   "language": "python",
   "name": "python3"
  },
  "language_info": {
   "codemirror_mode": {
    "name": "ipython",
    "version": 3
   },
   "file_extension": ".py",
   "mimetype": "text/x-python",
   "name": "python",
   "nbconvert_exporter": "python",
   "pygments_lexer": "ipython3",
   "version": "3.8.0"
  }
 },
 "nbformat": 4,
 "nbformat_minor": 5
}
