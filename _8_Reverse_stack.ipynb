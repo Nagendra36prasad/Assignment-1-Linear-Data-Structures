{
 "cells": [
  {
   "cell_type": "code",
   "execution_count": 1,
   "id": "643fc6e7",
   "metadata": {},
   "outputs": [
    {
     "name": "stdout",
     "output_type": "stream",
     "text": [
      "Original stack: deque([1, 2, 3])\n",
      "Reversed stack: deque([3, 2, 1])\n"
     ]
    }
   ],
   "source": [
    "# reverse the stack\n",
    "from collections import deque\n",
    "\n",
    "class Stack:\n",
    "    def __init__(self):\n",
    "        self.data = deque()\n",
    "        self.size = 0\n",
    "\n",
    "    def push(self, element):\n",
    "        self.data.append(element)    \n",
    "        self.size += 1\n",
    "\n",
    "    def isempty(self):\n",
    "        return self.size == 0\n",
    "\n",
    "    def stack_size(self):\n",
    "        return self.size\n",
    "\n",
    "    def peek(self):\n",
    "        if self.isempty():\n",
    "            return \"Stack is empty\"\n",
    "        else:\n",
    "            return self.data[-1]\n",
    "\n",
    "    def pop(self):\n",
    "        if self.isempty():\n",
    "            return \"Stack is empty\"\n",
    "        else:\n",
    "            self.size -= 1\n",
    "            return self.data.pop()    \n",
    "\n",
    "    def view(self):\n",
    "        return self.data\n",
    "# reverse a stack\n",
    "    def reverse_stack(self):\n",
    "        aux_stack = Stack()\n",
    "        while not self.isempty():\n",
    "            element = self.pop()\n",
    "            aux_stack.push(element)\n",
    "        self.data = aux_stack.data\n",
    "        \n",
    "my_stack = Stack()\n",
    "my_stack.push(1)\n",
    "my_stack.push(2)\n",
    "my_stack.push(3)\n",
    "print(\"Original stack:\", my_stack.view())\n",
    "my_stack.reverse_stack()\n",
    "print(\"Reversed stack:\", my_stack.view())\n",
    "        \n"
   ]
  },
  {
   "cell_type": "code",
   "execution_count": null,
   "id": "e521b157",
   "metadata": {},
   "outputs": [],
   "source": []
  }
 ],
 "metadata": {
  "kernelspec": {
   "display_name": "Python 3 (ipykernel)",
   "language": "python",
   "name": "python3"
  },
  "language_info": {
   "codemirror_mode": {
    "name": "ipython",
    "version": 3
   },
   "file_extension": ".py",
   "mimetype": "text/x-python",
   "name": "python",
   "nbconvert_exporter": "python",
   "pygments_lexer": "ipython3",
   "version": "3.8.0"
  }
 },
 "nbformat": 4,
 "nbformat_minor": 5
}
