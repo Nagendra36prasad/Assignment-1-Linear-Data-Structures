{
 "cells": [
  {
   "cell_type": "code",
   "execution_count": 1,
   "id": "8c7d70e9",
   "metadata": {},
   "outputs": [
    {
     "name": "stdout",
     "output_type": "stream",
     "text": [
      "[(5, 7), (4, 8), (2, 10)]\n"
     ]
    }
   ],
   "source": [
    "# Q1. Write a program to find all pairs of an integer array whose sum is equal to a given number?\n",
    "\n",
    "class ArrayPairSum:\n",
    "    def __init__(self, arr, target_sum):\n",
    "        self.arr = arr\n",
    "        self.target_sum = target_sum\n",
    "        self.pairs = []\n",
    "\n",
    "    def find_pairs(self):\n",
    "        lst1 = []\n",
    "        for num in self.arr:\n",
    "            complement = self.target_sum - num\n",
    "            if complement in lst1:\n",
    "                pair = (min(num, complement), max(num, complement))\n",
    "                if pair not in self.pairs:\n",
    "                    self.pairs.append(pair)\n",
    "            lst1.append(num)\n",
    "        return self.pairs\n",
    "\n",
    "my_arr = [2, 4, 5, 7, 8, 10]    # sample list \n",
    "my_target_sum = 12              # target sum in array\n",
    "\n",
    "\n",
    "my_array_pair_sum = ArrayPairSum(my_arr, my_target_sum)\n",
    "my_pairs = my_array_pair_sum.find_pairs()\n",
    "print(my_pairs) \n"
   ]
  },
  {
   "cell_type": "code",
   "execution_count": null,
   "id": "0bc7ffab",
   "metadata": {},
   "outputs": [],
   "source": []
  }
 ],
 "metadata": {
  "kernelspec": {
   "display_name": "Python 3 (ipykernel)",
   "language": "python",
   "name": "python3"
  },
  "language_info": {
   "codemirror_mode": {
    "name": "ipython",
    "version": 3
   },
   "file_extension": ".py",
   "mimetype": "text/x-python",
   "name": "python",
   "nbconvert_exporter": "python",
   "pygments_lexer": "ipython3",
   "version": "3.8.0"
  }
 },
 "nbformat": 4,
 "nbformat_minor": 5
}
