{
 "cells": [
  {
   "cell_type": "code",
   "execution_count": 1,
   "id": "9cbdbe4b",
   "metadata": {},
   "outputs": [
    {
     "name": "stdout",
     "output_type": "stream",
     "text": [
      "Reversed aray : [5, 4, 3, 2, 1]\n"
     ]
    }
   ],
   "source": [
    "# Q2. Write a program to reverse an array in place? \n",
    "# In place means you cannot create a new array. You have to update the original array.\n",
    "\n",
    "class ArrayReverse:\n",
    "    def __init__(self, arr):\n",
    "        self.arr = arr\n",
    "\n",
    "    def reverse(self):\n",
    "        left = 0                      \n",
    "        right = len(self.arr) - 1     \n",
    "        while left < right:\n",
    "            self.arr[left], self.arr[right] = self.arr[right], self.arr[left]\n",
    "            left += 1\n",
    "            right -= 1\n",
    "        return self.arr\n",
    "    \n",
    "\n",
    "my_arr = [1, 2, 3, 4, 5]      # sample list\n",
    "\n",
    "my_array_reverse = ArrayReverse(my_arr)\n",
    "my_array_reverse.reverse()\n",
    "print(\"Reversed aray :\",my_arr) \n",
    "\n"
   ]
  },
  {
   "cell_type": "code",
   "execution_count": null,
   "id": "322f7737",
   "metadata": {},
   "outputs": [],
   "source": []
  }
 ],
 "metadata": {
  "kernelspec": {
   "display_name": "Python 3 (ipykernel)",
   "language": "python",
   "name": "python3"
  },
  "language_info": {
   "codemirror_mode": {
    "name": "ipython",
    "version": 3
   },
   "file_extension": ".py",
   "mimetype": "text/x-python",
   "name": "python",
   "nbconvert_exporter": "python",
   "pygments_lexer": "ipython3",
   "version": "3.8.0"
  }
 },
 "nbformat": 4,
 "nbformat_minor": 5
}
