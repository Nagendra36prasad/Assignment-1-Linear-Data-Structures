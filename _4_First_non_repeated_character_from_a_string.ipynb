{
 "cells": [
  {
   "cell_type": "code",
   "execution_count": 1,
   "id": "d892e082",
   "metadata": {},
   "outputs": [
    {
     "name": "stdout",
     "output_type": "stream",
     "text": [
      "n\n"
     ]
    }
   ],
   "source": [
    "# Q4. Write a program to print the first non-repeated character from a string?\n",
    "\n",
    "class FirstNonRepeatedChar:\n",
    "    def __init__(self, string):\n",
    "        self.string = string\n",
    "\n",
    "    def find_first_non_repeated_char(self):\n",
    "        char_count = [0] * 256     # Array to store character count\n",
    "        for char in self.string:\n",
    "            char_count[ord(char)] += 1\n",
    "        for char in self.string:\n",
    "            if char_count[ord(char)] == 1:\n",
    "                return char\n",
    "        return None\n",
    "\n",
    "my_string = \"minimum\"\n",
    "my_first_non_repeated_char = FirstNonRepeatedChar(my_string)\n",
    "\n",
    "first_char = my_first_non_repeated_char.find_first_non_repeated_char()\n",
    "print(first_char)  # 'n'"
   ]
  },
  {
   "cell_type": "code",
   "execution_count": null,
   "id": "e8456cf6",
   "metadata": {},
   "outputs": [],
   "source": []
  }
 ],
 "metadata": {
  "kernelspec": {
   "display_name": "Python 3 (ipykernel)",
   "language": "python",
   "name": "python3"
  },
  "language_info": {
   "codemirror_mode": {
    "name": "ipython",
    "version": 3
   },
   "file_extension": ".py",
   "mimetype": "text/x-python",
   "name": "python",
   "nbconvert_exporter": "python",
   "pygments_lexer": "ipython3",
   "version": "3.8.0"
  }
 },
 "nbformat": 4,
 "nbformat_minor": 5
}
