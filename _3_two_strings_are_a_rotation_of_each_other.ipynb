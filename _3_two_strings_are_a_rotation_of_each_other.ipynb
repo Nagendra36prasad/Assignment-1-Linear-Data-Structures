{
 "cells": [
  {
   "cell_type": "code",
   "execution_count": 1,
   "id": "91d32e9c",
   "metadata": {},
   "outputs": [
    {
     "name": "stdout",
     "output_type": "stream",
     "text": [
      "True\n"
     ]
    }
   ],
   "source": [
    "# Q3. Write a program to check if two strings are a rotation of each other?\n",
    "\n",
    "class StringRotation:\n",
    "    def __init__(self, string1, string2):\n",
    "        self.string1 = string1\n",
    "        self.string2 = string2\n",
    "\n",
    "    def is_rotation(self):\n",
    "        if len(self.string1) != len(self.string2):\n",
    "            return False\n",
    "        double_string1 = self.string1 + self.string1\n",
    "        if self.string2 in double_string1:\n",
    "            return True\n",
    "        else:\n",
    "            return False\n",
    "        \n",
    "my_string1 = \"waterbottle\"\n",
    "my_string2 = \"erbottlewat\"\n",
    "my_string_rotation = StringRotation(my_string1, my_string2)\n",
    "\n",
    "is_rotation = my_string_rotation.is_rotation()\n",
    "print(is_rotation)  \n",
    "\n"
   ]
  },
  {
   "cell_type": "code",
   "execution_count": null,
   "id": "4bc1206e",
   "metadata": {},
   "outputs": [],
   "source": []
  }
 ],
 "metadata": {
  "kernelspec": {
   "display_name": "Python 3 (ipykernel)",
   "language": "python",
   "name": "python3"
  },
  "language_info": {
   "codemirror_mode": {
    "name": "ipython",
    "version": 3
   },
   "file_extension": ".py",
   "mimetype": "text/x-python",
   "name": "python",
   "nbconvert_exporter": "python",
   "pygments_lexer": "ipython3",
   "version": "3.8.0"
  }
 },
 "nbformat": 4,
 "nbformat_minor": 5
}
